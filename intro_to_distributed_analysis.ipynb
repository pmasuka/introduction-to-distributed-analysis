{
  "nbformat": 4,
  "nbformat_minor": 0,
  "metadata": {
    "kernelspec": {
      "display_name": "Python 3",
      "name": "python3"
    },
    "language_info": {
      "codemirror_mode": {
        "name": "ipython",
        "version": 3
      },
      "file_extension": ".py",
      "mimetype": "text/x-python",
      "name": "python",
      "nbconvert_exporter": "python",
      "pygments_lexer": "ipython3",
      "version": "3.8.12"
    },
    "colab": {
      "provenance": []
    }
  },
  "cells": [
    {
      "cell_type": "markdown",
      "metadata": {
        "id": "9qJy5XoByTKn"
      },
      "source": [
        "# Exercises on Spark Core API\n",
        "\n",
        "This notebook contains exercises on three different datasets. The goal is to solve these exercises using the **Spark Core API**.\n",
        "\n",
        "We start by installing pyspark (only execute if this is needed, e.g., if you are running this on Google Colab), and downloading the datasets. The exercises follow.\n",
        "\n",
        "### Useful documentation to do these exercises.\n",
        "\n",
        "The PySpark Documentation is available at https://spark.apache.org/docs/latest/api/python/index.html.\n",
        "\n",
        "Instructions on how to install PySpark on your local PC may be found at https://spark.apache.org/docs/latest/api/python/getting_started/install.html. Note that by installing PySpark in this way, you automatically have a local copy of Spark.\n",
        "\n",
        "The Spark Core  api that we use below has the following  documentation which is a useful reference to have: https://spark.apache.org/docs/latest/api/python/reference/pyspark.html"
      ]
    },
    {
      "cell_type": "markdown",
      "metadata": {
        "id": "oPDnAZE9us6F"
      },
      "source": [
        "#### Installing PySpark"
      ]
    },
    {
      "cell_type": "code",
      "metadata": {
        "id": "2Z5Xe86sus6F",
        "colab": {
          "base_uri": "https://localhost:8080/"
        },
        "outputId": "80757cd5-0669-48d7-be4d-ff60535129ef"
      },
      "source": [
        "# This installs pyspark in the current python environment.\n",
        "# By installing pyspark, we automatically also install spark.\n",
        "# You **need** to run this cell when running this notebook in google colab\n",
        "!pip install pyspark"
      ],
      "execution_count": 6,
      "outputs": [
        {
          "output_type": "stream",
          "name": "stdout",
          "text": [
            "Collecting pyspark\n",
            "  Downloading pyspark-3.5.1.tar.gz (317.0 MB)\n",
            "\u001b[2K     \u001b[90m━━━━━━━━━━━━━━━━━━━━━━━━━━━━━━━━━━━━━━━━\u001b[0m \u001b[32m317.0/317.0 MB\u001b[0m \u001b[31m3.8 MB/s\u001b[0m eta \u001b[36m0:00:00\u001b[0m\n",
            "\u001b[?25h  Preparing metadata (setup.py) ... \u001b[?25l\u001b[?25hdone\n",
            "Requirement already satisfied: py4j==0.10.9.7 in /usr/local/lib/python3.10/dist-packages (from pyspark) (0.10.9.7)\n",
            "Building wheels for collected packages: pyspark\n",
            "  Building wheel for pyspark (setup.py) ... \u001b[?25l\u001b[?25hdone\n",
            "  Created wheel for pyspark: filename=pyspark-3.5.1-py2.py3-none-any.whl size=317488491 sha256=271ce522a90fd705106fe58a19557fdf4ff103e9f7497f1b18ed75bc1e8c8d67\n",
            "  Stored in directory: /root/.cache/pip/wheels/80/1d/60/2c256ed38dddce2fdd93be545214a63e02fbd8d74fb0b7f3a6\n",
            "Successfully built pyspark\n",
            "Installing collected packages: pyspark\n",
            "Successfully installed pyspark-3.5.1\n"
          ]
        }
      ]
    },
    {
      "cell_type": "markdown",
      "metadata": {
        "id": "nvPogFL6us6H"
      },
      "source": [
        "#### General imports and starting Spark"
      ]
    },
    {
      "cell_type": "code",
      "metadata": {
        "id": "DP9Uj34dus6I"
      },
      "source": [
        "#This is needed to start a Spark session from the notebook\n",
        "#You may adjust the memory used by the driver program based on your machine's settings\n",
        "import os\n",
        "os.environ['PYSPARK_SUBMIT_ARGS'] =\"--conf spark.driver.memory=3g  pyspark-shell\"\n",
        "\n",
        "from pyspark.sql import SparkSession"
      ],
      "execution_count": 7,
      "outputs": []
    },
    {
      "cell_type": "code",
      "metadata": {
        "id": "kYOmJ0njus6J",
        "colab": {
          "base_uri": "https://localhost:8080/",
          "height": 196
        },
        "outputId": "6b728176-e17d-442b-c878-a1cdcbb61bab"
      },
      "source": [
        "# -------------------------------\n",
        "# Start Spark in LOCAL mode\n",
        "# -------------------------------\n",
        "\n",
        "#The following lines are just there to allow this cell to be re-executed multiple times:\n",
        "#if a spark session was already started, we stop it before starting a new one\n",
        "#(there can be only one spark context per jupyter notebook)\n",
        "try:\n",
        "    spark\n",
        "    print(\"Spark application already started. Terminating existing application and starting new one\")\n",
        "    spark.stop()\n",
        "except:\n",
        "    pass\n",
        "\n",
        "# Create a new spark session (note, the * indicates to use all available CPU cores)\n",
        "spark = SparkSession \\\n",
        "    .builder \\\n",
        "    .master(\"local[*]\") \\\n",
        "    .appName(\"demoRDD\") \\\n",
        "    .getOrCreate()\n",
        "\n",
        "#When dealing with RDDs, we work the sparkContext object. See https://spark.apache.org/docs/latest/api/python/pyspark.html#pyspark.SparkContext\n",
        "sc=spark.sparkContext\n",
        "\n",
        "# We print the sparkcontext. This prints general information about the spark instance we have connected to.\n",
        "# In particular, the hyperlink allows us to open the spark UI (useful for seeing what is going on)\n",
        "# Note: this hyperlink won't work when running this notebook in Google Colab.\n",
        "sc"
      ],
      "execution_count": 8,
      "outputs": [
        {
          "output_type": "execute_result",
          "data": {
            "text/plain": [
              "<SparkContext master=local[*] appName=demoRDD>"
            ],
            "text/html": [
              "\n",
              "        <div>\n",
              "            <p><b>SparkContext</b></p>\n",
              "\n",
              "            <p><a href=\"http://b0b6d1f2ef28:4040\">Spark UI</a></p>\n",
              "\n",
              "            <dl>\n",
              "              <dt>Version</dt>\n",
              "                <dd><code>v3.5.1</code></dd>\n",
              "              <dt>Master</dt>\n",
              "                <dd><code>local[*]</code></dd>\n",
              "              <dt>AppName</dt>\n",
              "                <dd><code>demoRDD</code></dd>\n",
              "            </dl>\n",
              "        </div>\n",
              "        "
            ]
          },
          "metadata": {},
          "execution_count": 8
        }
      ]
    },
    {
      "cell_type": "markdown",
      "metadata": {
        "id": "55F4k_N-wgmZ"
      },
      "source": [
        "### Downloading data\n",
        "\n",
        "The next cell downloads the data required to do the exercises"
      ]
    },
    {
      "cell_type": "code",
      "metadata": {
        "id": "VSHIau9kwkD-",
        "colab": {
          "base_uri": "https://localhost:8080/"
        },
        "outputId": "ada0d029-20e9-4ba1-d97b-fa9dc1448c8d"
      },
      "source": [
        "!mkdir downloads\n",
        "!wget 'https://drive.google.com/u/0/uc?id=1Xlmwiku1RKLyACAPMFZMg1-RsWY-8tYS&export=download' -O downloads/data-spark-exercises.zip\n",
        "!unzip -q downloads/data-spark-exercises.zip\n",
        "!ls data"
      ],
      "execution_count": 9,
      "outputs": [
        {
          "output_type": "stream",
          "name": "stdout",
          "text": [
            "--2024-03-13 20:08:21--  https://drive.google.com/u/0/uc?id=1Xlmwiku1RKLyACAPMFZMg1-RsWY-8tYS&export=download\n",
            "Resolving drive.google.com (drive.google.com)... 142.251.111.101, 142.251.111.139, 142.251.111.113, ...\n",
            "Connecting to drive.google.com (drive.google.com)|142.251.111.101|:443... connected.\n",
            "HTTP request sent, awaiting response... 302 Found\n",
            "Location: https://drive.google.com/uc?id=1Xlmwiku1RKLyACAPMFZMg1-RsWY-8tYS&export=download [following]\n",
            "--2024-03-13 20:08:21--  https://drive.google.com/uc?id=1Xlmwiku1RKLyACAPMFZMg1-RsWY-8tYS&export=download\n",
            "Reusing existing connection to drive.google.com:443.\n",
            "HTTP request sent, awaiting response... 303 See Other\n",
            "Location: https://drive.usercontent.google.com/download?id=1Xlmwiku1RKLyACAPMFZMg1-RsWY-8tYS&export=download [following]\n",
            "--2024-03-13 20:08:21--  https://drive.usercontent.google.com/download?id=1Xlmwiku1RKLyACAPMFZMg1-RsWY-8tYS&export=download\n",
            "Resolving drive.usercontent.google.com (drive.usercontent.google.com)... 172.253.63.132, 2607:f8b0:4004:c08::84\n",
            "Connecting to drive.usercontent.google.com (drive.usercontent.google.com)|172.253.63.132|:443... connected.\n",
            "HTTP request sent, awaiting response... 200 OK\n",
            "Length: 15656709 (15M) [application/octet-stream]\n",
            "Saving to: ‘downloads/data-spark-exercises.zip’\n",
            "\n",
            "downloads/data-spar 100%[===================>]  14.93M  21.8MB/s    in 0.7s    \n",
            "\n",
            "2024-03-13 20:08:37 (21.8 MB/s) - ‘downloads/data-spark-exercises.zip’ saved [15656709/15656709]\n",
            "\n",
            "books  github  movielens  sensors\n"
          ]
        }
      ]
    },
    {
      "cell_type": "markdown",
      "metadata": {
        "id": "YSNlBVQqyTKp"
      },
      "source": [
        "## 1. Sensor data exercises\n",
        "In the file “data/sensors/sensor-sample.txt” you will find on each line, multiple fields of information, let’s call them : Date(Date), Time(Time), RoomId(Integer)-SensorId(Integer), Value1(float), Value2(float)\n",
        "Using this file, use spark to compute the following queries :\n",
        "\n",
        "1. Count the number of entries for each day.\n",
        "2. Count the number of measures for each pair of RoomId-SensorId.\n",
        "3. Compute the average of Value1."
      ]
    },
    {
      "cell_type": "markdown",
      "source": [
        "1. Count the number of entries for each day."
      ],
      "metadata": {
        "id": "60-Tb6qKav5-"
      }
    },
    {
      "cell_type": "code",
      "source": [
        "from datetime import datetime\n",
        "\n",
        "sensorsRDD = sc.textFile('data/sensors/sensor-sample.txt')\n",
        "\n",
        "# convert string to date\n",
        "count_by_day = sensorsRDD.map(lambda line: (datetime.strptime(line.split()[0], '%Y-%m-%d').date(), 1)).countByKey()\n",
        "\n",
        "for date, count in list(count_by_day.items())[:5]:\n",
        "    print(f\"{date}: {count} entries\")"
      ],
      "metadata": {
        "colab": {
          "base_uri": "https://localhost:8080/"
        },
        "id": "RMEI9-k5LgA2",
        "outputId": "8226edee-d5b2-4b99-91af-87b21b370235"
      },
      "execution_count": 10,
      "outputs": [
        {
          "output_type": "stream",
          "name": "stdout",
          "text": [
            "2017-03-31: 3393 entries\n",
            "2017-02-28: 62103 entries\n",
            "2017-03-01: 33423 entries\n",
            "2017-03-02: 32403 entries\n",
            "2017-03-03: 29727 entries\n"
          ]
        }
      ]
    },
    {
      "cell_type": "markdown",
      "source": [
        "2. Count the number of measures for each pair of RoomId-SensorId."
      ],
      "metadata": {
        "id": "zPl4iP2wbAuO"
      }
    },
    {
      "cell_type": "code",
      "source": [
        "# Count occurrences of each room-sensor combination\n",
        "count_by_room_sensor = sensorsRDD.map(lambda line: (line.split()[2], 1)).countByKey()\n",
        "\n",
        "# Iterate through room-sensor combinations and print counts\n",
        "for room_sensor, count in count_by_room_sensor.items():\n",
        "    print(f\"{room_sensor}: {count} measures\")"
      ],
      "metadata": {
        "colab": {
          "base_uri": "https://localhost:8080/"
        },
        "id": "gswYQO9COSmr",
        "outputId": "850974cd-ce32-4c5f-dcd2-25fd5f04a616"
      },
      "execution_count": 11,
      "outputs": [
        {
          "output_type": "stream",
          "name": "stdout",
          "text": [
            "1-0: 43047 measures\n",
            "1-1: 43047 measures\n",
            "1-2: 43047 measures\n",
            "2-0: 46915 measures\n",
            "2-1: 46915 measures\n",
            "2-2: 46915 measures\n",
            "3-0: 46634 measures\n",
            "3-1: 46634 measures\n",
            "3-2: 46634 measures\n",
            "4-0: 43793 measures\n",
            "4-1: 43793 measures\n",
            "4-2: 43793 measures\n",
            "5-0: 35 measures\n",
            "5-1: 35 measures\n",
            "5-2: 35 measures\n",
            "6-0: 35666 measures\n",
            "6-1: 35666 measures\n",
            "6-2: 35666 measures\n",
            "7-0: 14910 measures\n",
            "7-1: 14910 measures\n",
            "7-2: 14910 measures\n"
          ]
        }
      ]
    },
    {
      "cell_type": "markdown",
      "source": [
        "3. Compute the average of Value1."
      ],
      "metadata": {
        "id": "un0U2UfUb450"
      }
    },
    {
      "cell_type": "code",
      "source": [
        "# Extract Value1 and convert it to a float\n",
        "value1_rdd = sensorsRDD.map(lambda line: float(line.split()[3]))\n",
        "\n",
        "# Calculate the average\n",
        "total_sum = value1_rdd.reduce(lambda x, y: x + y)\n",
        "total_count = value1_rdd.count()\n",
        "average_value1 = total_sum / total_count if total_count > 0 else 0\n",
        "\n",
        "print(f\"Average of Value1: {average_value1}\")"
      ],
      "metadata": {
        "colab": {
          "base_uri": "https://localhost:8080/"
        },
        "id": "Qr55KhC8OjGr",
        "outputId": "8e214684-e286-4ad6-b0a1-527f215097f9"
      },
      "execution_count": 12,
      "outputs": [
        {
          "output_type": "stream",
          "name": "stdout",
          "text": [
            "Average of Value1: 92.80699275770311\n"
          ]
        }
      ]
    },
    {
      "cell_type": "markdown",
      "metadata": {
        "id": "Vwxpq5_NyTKv"
      },
      "source": [
        "## 2. Movielens movie data exercises\n",
        "\n",
        "Movielens (https://movielens.org/) is a website that provides non-commercial, personalised movie recommendations. GroupLens Research has collected and made available rating data sets from the MovieLens web site for the purpose of research into making recommendation services. In this exercise, we will use one of these datasets (the movielens latest dataset, http://files.grouplens.org/datasets/movielens/ml-latest-small.zip) and compute some basic queries on it.\n",
        "The dataset has already been downloaded and is available at data/movielens/movies.csv, data/movielens/ratings.csv, data/movielens/tags.csv, data/movielens/links.csv\n",
        "\n",
        "1. Inspect the dataset's [README file](http://files.grouplens.org/datasets/movielens/ml-latest-small-README.html), in particular the section titled \"Content and Use of Files\" to learn the structure of these three files.\n",
        "2. Compute all pairs (`movieid`, `rat`) where `movieid` is a movie id (as found in ratings.csv) and `rat` is the average rating of that movie id. (Hint: use aggregateByKey to compute first the sum of all ratings as well as the number of ratings per key).\n",
        "2. Compute all pairs (`title`, `rat`) where `title` is a full movie title (as found in the movies.csv file), and `rat` is the average rating of that movie (computed over all possible ratings for that movie, as found in the ratings.csv file)\n",
        "3. [_Extra_] Compute all pairs (`title`, `tag`) where `title` is a full movie title that has an average rating of at least 3.5, and `tag` is a tag for that movie (as found in the tags.csv file)\n",
        "\n",
        "Extra: if you want to experiment with larger datasets, download the 10m dataset (http://files.grouplens.org/datasets/movielens/ml-10m.zip, 250 Mb uncompressed) and re-do the exercises above"
      ]
    },
    {
      "cell_type": "markdown",
      "source": [
        "2. Compute all pairs (`movieid`, `rat`) where `movieid` is a movie id (as found in ratings.csv) and `rat` is the average rating of that movie id. (Hint: use aggregateByKey to compute first the sum of all ratings as well as the number of ratings per key)."
      ],
      "metadata": {
        "id": "NiNjykRnciIv"
      }
    },
    {
      "cell_type": "code",
      "source": [
        "ratings_data = sc.textFile('data/movielens/ratings.csv')\n",
        "\n",
        "# Parse the data into tuples of (movieId, rating)\n",
        "ratings = ratings_data.map(lambda line: line.split(\",\")).map(lambda tokens: (int(tokens[1]), float(tokens[2])))\n",
        "\n",
        "# Compute the sum and count of ratings for each movieId\n",
        "# The initial values for each key are (0.0, 0) where 0.0 is the sum of ratings and 0 is the count of ratings\n",
        "sum_count = ratings.aggregateByKey((0.0, 0),\n",
        "                                   lambda acc, value: (acc[0] + value, acc[1] + 1),\n",
        "                                   lambda acc1, acc2: (acc1[0] + acc2[0], acc1[1] + acc2[1]))\n",
        "\n",
        "# Calculate the average rating for each movieId\n",
        "average_ratings = sum_count.mapValues(lambda x: x[0] / x[1])\n",
        "\n",
        "# Collect the results and print sample pairs (movieId, average rating)\n",
        "result = average_ratings.collect()\n",
        "\n",
        "for movie_id, avg_rating in result[:5]:\n",
        "    print(f\"Movie ID: {movie_id}, Average Rating: {avg_rating}\")"
      ],
      "metadata": {
        "colab": {
          "base_uri": "https://localhost:8080/"
        },
        "id": "XqlGUEPJSXWl",
        "outputId": "ceb9caa7-5cbb-4f09-c596-a825c4c692b6"
      },
      "execution_count": 18,
      "outputs": [
        {
          "output_type": "stream",
          "name": "stdout",
          "text": [
            "Movie ID: 6, Average Rating: 3.946078431372549\n",
            "Movie ID: 50, Average Rating: 4.237745098039215\n",
            "Movie ID: 70, Average Rating: 3.5090909090909093\n",
            "Movie ID: 110, Average Rating: 4.031645569620253\n",
            "Movie ID: 216, Average Rating: 3.326530612244898\n"
          ]
        }
      ]
    },
    {
      "cell_type": "markdown",
      "source": [
        "3. Compute all pairs (title, rat) where title is a full movie title (as found in the movies.csv file), and rat is the average rating of that movie (computed over all possible ratings for that movie, as found in the ratings.csv file)"
      ],
      "metadata": {
        "id": "mSSo5kyfe0CT"
      }
    },
    {
      "cell_type": "code",
      "source": [
        "# Load the data\n",
        "movies_data = sc.textFile('data/movielens/movies.csv')\n",
        "\n",
        "# Parse the data into tuples of (movieId, rating)\n",
        "ratings = ratings_data.map(lambda line: line.split(\",\")).map(lambda tokens: (int(tokens[1]), float(tokens[2])))\n",
        "\n",
        "# Parse the data into tuples of (movieId, title)\n",
        "movies = movies_data.map(lambda line: line.split(\",\")).map(lambda tokens: (int(tokens[0]), tokens[1]))\n",
        "\n",
        "# Join ratings with movies data to get (movieId, (rating, title))\n",
        "joined_data = ratings.join(movies)\n",
        "\n",
        "# Use aggregateByKey to compute the sum of ratings and the count of ratings for each movieId\n",
        "# The initial values for each key are (0.0, 0) where 0.0 is the sum of ratings and 0 is the count of ratings\n",
        "sum_count = joined_data.aggregateByKey((0.0, 0),\n",
        "                                       lambda acc, value: (acc[0] + value[0], acc[1] + 1),\n",
        "                                       lambda acc1, acc2: (acc1[0] + acc2[0], acc1[1] + acc2[1]))\n",
        "\n",
        "average_ratings = sum_count.mapValues(lambda x: x[0] / x[1])\n",
        "\n",
        "# Collect the results and print sample pairs (title, average rating)\n",
        "result = average_ratings.collect()[:5]\n",
        "\n",
        "for movie_id, avg_rating in result:\n",
        "    title = movies.lookup(movie_id)[0]\n",
        "    rating = avg_rating\n",
        "    print(f\"Movie Title: {title}, Average Rating: {rating}\")"
      ],
      "metadata": {
        "colab": {
          "base_uri": "https://localhost:8080/"
        },
        "id": "W4s9ol4lT0DK",
        "outputId": "4485f972-f630-4b71-bc2c-1f9c791c5aa1"
      },
      "execution_count": 21,
      "outputs": [
        {
          "output_type": "stream",
          "name": "stdout",
          "text": [
            "Movie Title: Billy Madison (1995), Average Rating: 3.326530612244898\n",
            "Movie Title: Star Wars: Episode IV - A New Hope (1977), Average Rating: 4.231075697211155\n",
            "Movie Title: Pulp Fiction (1994), Average Rating: 4.197068403908795\n",
            "Movie Title: Stargate (1994), Average Rating: 3.375\n",
            "Movie Title: Forrest Gump (1994), Average Rating: 4.164133738601824\n"
          ]
        }
      ]
    },
    {
      "cell_type": "markdown",
      "source": [
        "4. [_Extra_] Compute all pairs (title, tag) where title is a full movie title that has an average rating of at least 3.5, and tag is a tag for that movie (as found in the tags.csv file)"
      ],
      "metadata": {
        "id": "nhwTvGFQgBmG"
      }
    },
    {
      "cell_type": "code",
      "source": [
        "tags_data = sc.textFile('data/movielens/tags.csv')\n",
        "\n",
        "# Load movies data\n",
        "# movies_data = sc.textFile(\"movies.csv\")\n",
        "\n",
        "# Split each line of data into fields\n",
        "ratings_rdd = ratings_data.map(lambda line: line.split(\",\"))\n",
        "tags_rdd = tags_data.map(lambda line: line.split(\",\"))\n",
        "movies_rdd = movies_data.map(lambda line: line.split(\",\"))\n",
        "\n",
        "# Filter ratings RDD to only include ratings >= 3.5\n",
        "highly_rated_movies = ratings_rdd.map(lambda x: (x[1], (float(x[2]), 1))) \\\n",
        "    .reduceByKey(lambda a, b: (a[0] + b[0], a[1] + b[1])) \\\n",
        "    .filter(lambda x: x[1][0] / x[1][1] >= 3.5)\n",
        "\n",
        "# Join highly_rated_movies with movies RDD\n",
        "movie_title_ratings = highly_rated_movies.join(movies_rdd.map(lambda x: (x[0], x[1])))\n",
        "\n",
        "# Convert tags RDD to (movieId, tag) format\n",
        "tag_pairs = tags_rdd.map(lambda x: (x[1], x[2]))\n",
        "\n",
        "# Join movie_title_ratings with tags RDD\n",
        "result = movie_title_ratings.join(tag_pairs) \\\n",
        "    .map(lambda x: ((x[1][0][1], x[1][1]), 1)) \\\n",
        "    .reduceByKey(lambda a, b: a + b) \\\n",
        "    .map(lambda x: (x[0][0], x[0][1]))\n",
        "\n",
        "# Display the results\n",
        "result.take(5)"
      ],
      "metadata": {
        "colab": {
          "base_uri": "https://localhost:8080/"
        },
        "id": "h5P7onfEVI7O",
        "outputId": "93748273-cbcb-4d1e-d6e9-e2226827c9f8"
      },
      "execution_count": 26,
      "outputs": [
        {
          "output_type": "execute_result",
          "data": {
            "text/plain": [
              "[('L.A. Confidential (1997)', 'Police'),\n",
              " ('\"Jungle Book', 'Disney'),\n",
              " ('Requiem for a Dream (2000)', 'drug abuse'),\n",
              " ('Dead Again (1991)', 'memory'),\n",
              " ('Enemy at the Gates (2001)', 'sniper')]"
            ]
          },
          "metadata": {},
          "execution_count": 26
        }
      ]
    },
    {
      "cell_type": "markdown",
      "metadata": {
        "id": "JZHDM49PyTKx"
      },
      "source": [
        "## 3. Github log data exercises\n",
        "Github makes activity logs publicly available at https://www.githubarchive.org/. One such log file, which contains activity data for 2015-03-01 between 0h-1h at night, has been downloaded and is available at `data/github/2015-03-01-0.json.gz`. This (compressed) file contains multiple JSON objects, one per line. Here is a sample line of this file, neatly formatted:\n",
        "\n",
        "`{ \"id\": \"2614896652\",\n",
        "    \"type\": \"CreateEvent\",\n",
        "    \"actor\": {\n",
        "        \"id\": 739622,\n",
        "        \"login\": \"treydock\",\n",
        "        \"gravatar_id\": \"\",\n",
        "        \"url\": \"https://api.githb.com/users/treydock\",\n",
        "        \"avatar_url\": \"https://avatars.githubusercontent.com/u/739622?\"\n",
        "    },\n",
        "    \"repo\": {\n",
        "        \"id\": 23934080,\n",
        "        \"name\": \"Early-Modern-OCR/emop-dashboard\",\n",
        "    \"url\": \"https://api.github.com/repos/Early-Modern-OCR/emop-dashboard\"\n",
        "    },\n",
        "    \"payload\": {\n",
        "        \"ref\": \"development\",\n",
        "        \"ref_type\": \"branch\",\n",
        "        \"master-branch\": \"master\",\n",
        "        \"description\": \"\",\n",
        "        \"pusher_type\": \"user\",\n",
        "    },\n",
        "    \"public\": true,\n",
        "    \"created_at\": \"2015-03-01T00:00:00Z\",\n",
        "    \"org\": {\n",
        "        \"id\": 10965476,\n",
        "        \"login\": \"Early-Modern-OCR\",\n",
        "        \"gravatar_id\": \"\",\n",
        "        \"url\": \"https://api.github.com/orgs/Early-Modern-OCR\",\n",
        "        \"avatar_url\": \"https://avatars.githubusercontent.com/u/10965476?\"\n",
        "    }\n",
        "}`\n",
        "\n",
        "This log entry has `CreateEvent` type and its `payload.ref_type` is `branch` . So someone named \"treydock\" (`actor.login`) created a repository branch called \"development\" (`payload.ref`) in the first second of March 1, 2015 (`created_at`) .\n",
        "\n",
        "1. Load the textfile into an RDD (note: spark can read gzipped files directly!). Convert this RDD (which consists of string elements) to an RDD where each element is a JSON object (hint: use the `json.loads` function from the `json` module to convert a string into a JSON object).\n",
        "\n",
        "2. Filter this RDD of JSON objects to retain only those objects that represent push activities (where `type` equals `PushEvent`)\n",
        "\n",
        "3. Count the number of push events.\n",
        "\n",
        "4. Compute the number of push events, grouped per `actor.login`.\n",
        "\n",
        "5. Retrieve the results of (4) in sorted order, where logins with higher number of pushes come first. Retrieve the 10 first such results (which contain the highest number of pushes)\n",
        "\n",
        "6. You are representing a company and need to retrieving the number of pushes for every employee in the company. The file `data/github/employees.txt` contains a list of all employee login names at your company.\n",
        "\n",
        "Extra: if you want to experiment with larger datasets, download more log data from the github archive website and re-do the exercises above"
      ]
    },
    {
      "cell_type": "markdown",
      "source": [
        "1. Load the textfile into an RDD (note: spark can read gzipped files directly!). Convert this RDD (which consists of string elements) to an RDD where each element is a JSON object (hint: use the json.loads function from the json module to convert a string into a JSON object)."
      ],
      "metadata": {
        "id": "aCi7F9JFkvpY"
      }
    },
    {
      "cell_type": "code",
      "source": [
        "import json\n",
        "\n",
        "# Load the gzipped JSON file directly into an RDD\n",
        "file_path = \"data/github/2015-03-01-0.json.gz\"\n",
        "json_rdd = sc.textFile(file_path).map(lambda line: json.loads(line))\n",
        "\n",
        "\n",
        "# Print the first 5 JSON objects\n",
        "for json_obj in json_rdd.take(5):\n",
        "    print(json_obj)\n"
      ],
      "metadata": {
        "colab": {
          "base_uri": "https://localhost:8080/"
        },
        "id": "vQs9QkciWmUs",
        "outputId": "382cd4c6-2972-49ea-c4af-c9a890cc8b1d"
      },
      "execution_count": 27,
      "outputs": [
        {
          "output_type": "stream",
          "name": "stdout",
          "text": [
            "{'id': '2614896652', 'type': 'CreateEvent', 'actor': {'id': 739622, 'login': 'treydock', 'gravatar_id': '', 'url': 'https://api.github.com/users/treydock', 'avatar_url': 'https://avatars.githubusercontent.com/u/739622?'}, 'repo': {'id': 23934080, 'name': 'Early-Modern-OCR/emop-dashboard', 'url': 'https://api.github.com/repos/Early-Modern-OCR/emop-dashboard'}, 'payload': {'ref': 'development', 'ref_type': 'branch', 'master_branch': 'master', 'description': '', 'pusher_type': 'user'}, 'public': True, 'created_at': '2015-03-01T00:00:00Z', 'org': {'id': 10965476, 'login': 'Early-Modern-OCR', 'gravatar_id': '', 'url': 'https://api.github.com/orgs/Early-Modern-OCR', 'avatar_url': 'https://avatars.githubusercontent.com/u/10965476?'}}\n",
            "{'id': '2614896653', 'type': 'PushEvent', 'actor': {'id': 9063348, 'login': 'bezerrathm', 'gravatar_id': '', 'url': 'https://api.github.com/users/bezerrathm', 'avatar_url': 'https://avatars.githubusercontent.com/u/9063348?'}, 'repo': {'id': 31481156, 'name': 'bezerrathm/HuffmanCoding', 'url': 'https://api.github.com/repos/bezerrathm/HuffmanCoding'}, 'payload': {'push_id': 588068425, 'size': 1, 'distinct_size': 1, 'ref': 'refs/heads/master', 'head': '570ad890d78525dfc10364901c41b8236e2c783a', 'before': '6dda286a3a1c254184f1456b5fefc139ff9dce66', 'commits': [{'sha': '570ad890d78525dfc10364901c41b8236e2c783a', 'author': {'email': 'ba1618c3d509021c3c759fa9aad031c4a38fe046@gmail.com', 'name': 'Thiago Henrique Menêses Bezerra'}, 'message': 'Create other.h', 'distinct': True, 'url': 'https://api.github.com/repos/bezerrathm/HuffmanCoding/commits/570ad890d78525dfc10364901c41b8236e2c783a'}]}, 'public': True, 'created_at': '2015-03-01T00:00:00Z'}\n",
            "{'id': '2614896654', 'type': 'PushEvent', 'actor': {'id': 2474382, 'login': 'demianborba', 'gravatar_id': '', 'url': 'https://api.github.com/users/demianborba', 'avatar_url': 'https://avatars.githubusercontent.com/u/2474382?'}, 'repo': {'id': 31475673, 'name': 'demianborba/demo-bh-la-braintree-node-angular', 'url': 'https://api.github.com/repos/demianborba/demo-bh-la-braintree-node-angular'}, 'payload': {'push_id': 588068427, 'size': 1, 'distinct_size': 1, 'ref': 'refs/heads/master', 'head': '191a22b798fdf37e9fa87d5bbb37d4e4b5140ca8', 'before': '6089ce1d78dc0a028b9f43be86393f7b86d7441e', 'commits': [{'sha': '191a22b798fdf37e9fa87d5bbb37d4e4b5140ca8', 'author': {'email': '81f8c769cbc39e5504763fee38d8c8c75529d125@actioncreations.com', 'name': 'Demian Borba'}, 'message': 'update readme', 'distinct': True, 'url': 'https://api.github.com/repos/demianborba/demo-bh-la-braintree-node-angular/commits/191a22b798fdf37e9fa87d5bbb37d4e4b5140ca8'}]}, 'public': True, 'created_at': '2015-03-01T00:00:00Z'}\n",
            "{'id': '2614896656', 'type': 'IssueCommentEvent', 'actor': {'id': 9614759, 'login': 'GoogleCodeExporter', 'gravatar_id': '', 'url': 'https://api.github.com/users/GoogleCodeExporter', 'avatar_url': 'https://avatars.githubusercontent.com/u/9614759?'}, 'repo': {'id': 31481077, 'name': 'chrsmith/google-api-java-client', 'url': 'https://api.github.com/repos/chrsmith/google-api-java-client'}, 'payload': {'action': 'created', 'issue': {'url': 'https://api.github.com/repos/chrsmith/google-api-java-client/issues/303', 'labels_url': 'https://api.github.com/repos/chrsmith/google-api-java-client/issues/303/labels{/name}', 'comments_url': 'https://api.github.com/repos/chrsmith/google-api-java-client/issues/303/comments', 'events_url': 'https://api.github.com/repos/chrsmith/google-api-java-client/issues/303/events', 'html_url': 'https://github.com/chrsmith/google-api-java-client/issues/303', 'id': 59367357, 'number': 303, 'title': 'Java import manager for code generator', 'user': {'login': 'GoogleCodeExporter', 'id': 9614759, 'avatar_url': 'https://avatars.githubusercontent.com/u/9614759?v=3', 'gravatar_id': '', 'url': 'https://api.github.com/users/GoogleCodeExporter', 'html_url': 'https://github.com/GoogleCodeExporter', 'followers_url': 'https://api.github.com/users/GoogleCodeExporter/followers', 'following_url': 'https://api.github.com/users/GoogleCodeExporter/following{/other_user}', 'gists_url': 'https://api.github.com/users/GoogleCodeExporter/gists{/gist_id}', 'starred_url': 'https://api.github.com/users/GoogleCodeExporter/starred{/owner}{/repo}', 'subscriptions_url': 'https://api.github.com/users/GoogleCodeExporter/subscriptions', 'organizations_url': 'https://api.github.com/users/GoogleCodeExporter/orgs', 'repos_url': 'https://api.github.com/users/GoogleCodeExporter/repos', 'events_url': 'https://api.github.com/users/GoogleCodeExporter/events{/privacy}', 'received_events_url': 'https://api.github.com/users/GoogleCodeExporter/received_events', 'type': 'User', 'site_admin': False}, 'labels': [{'url': 'https://api.github.com/repos/chrsmith/google-api-java-client/labels/auto-migrated', 'name': 'auto-migrated', 'color': 'ededed'}, {'url': 'https://api.github.com/repos/chrsmith/google-api-java-client/labels/Component-Google-APIs', 'name': 'Component-Google-APIs', 'color': 'ededed'}, {'url': 'https://api.github.com/repos/chrsmith/google-api-java-client/labels/Milestone-CodeGenVersion1.3.0', 'name': 'Milestone-CodeGenVersion1.3.0', 'color': 'ededed'}, {'url': 'https://api.github.com/repos/chrsmith/google-api-java-client/labels/Priority-Low', 'name': 'Priority-Low', 'color': 'ededed'}, {'url': 'https://api.github.com/repos/chrsmith/google-api-java-client/labels/Type-Enhancement', 'name': 'Type-Enhancement', 'color': 'ededed'}], 'state': 'closed', 'locked': False, 'assignee': None, 'milestone': None, 'comments': 2, 'created_at': '2015-02-28T23:59:59Z', 'updated_at': '2015-03-01T00:00:00Z', 'closed_at': '2015-02-28T23:59:59Z', 'body': '```\\n\\nThe way imports are managed in the generator right now is more complicated, \\ninconsistent, and error-prone than it needs to be.\\n\\nHere is one example in java_generator.py copied below:\\n\\n   type_for_format = self._SCHEMA_TYPE_TO_JAVA_TYPE.get(json_format)\\n   if type_for_format:\\n     native_format = type_for_format\\n   else:\\n     native_format = self._SCHEMA_TYPE_TO_JAVA_TYPE.get(json_type, json_type)\\n\\n...\\n\\n   # Some types are not imported by default. We must explicitly import them\\n   if native_format == \\'BigInteger\\':\\n     element.requires_imports.append(\\'java.math.BigInteger\\')\\n   elif native_format == \\'DateTime\\':\\n     element.requires_imports.append(\\'com.google.api.client.util.DateTime\\')\\n\\nHere\\'s another example:\\n\\nhttp://code.google.com/p/google-apis-client-generator/source/browse/src/googleap\\nis/codegen/java/default/templates/___package___/ApiClient.java.tmpl\\n\\ncopied below:\\n\\n{% if api.dataWrapper %}\\nimport com.google.api.client.googleapis.json.JsonCContent;\\nimport com.google.api.client.googleapis.json.JsonCParser;\\n{% endif %}\\n\\n\\nHere\\'s what we did in the GData code generator that I found very effective: \\nevery time you use a Java class you call \\nuse(\"com.google.api.client.googleapis.json.JsonCContent\").  It automatically \\ntracks all of the \"extraImports\" this way, and so you never have write any \\nexplicit import statements in your templates.  If that section of generation \\nisn\\'t called, use() is never called.  So you don\\'t need to duplicate your \\nif-logic between the code section and the import section.  It also takes care \\nof other logic like determining if there is a collision between two classes and \\ntherefore decide when to use just the class name or a fully-qualified class \\nname.\\n```\\n\\nOriginal issue reported on code.google.com by `rmis...@google.com` on 27 Sep 2011 at 3:31'}, 'comment': {'url': 'https://api.github.com/repos/chrsmith/google-api-java-client/issues/comments/76558893', 'html_url': 'https://github.com/chrsmith/google-api-java-client/issues/303#issuecomment-76558893', 'issue_url': 'https://api.github.com/repos/chrsmith/google-api-java-client/issues/303', 'id': 76558893, 'user': {'login': 'GoogleCodeExporter', 'id': 9614759, 'avatar_url': 'https://avatars.githubusercontent.com/u/9614759?v=3', 'gravatar_id': '', 'url': 'https://api.github.com/users/GoogleCodeExporter', 'html_url': 'https://github.com/GoogleCodeExporter', 'followers_url': 'https://api.github.com/users/GoogleCodeExporter/followers', 'following_url': 'https://api.github.com/users/GoogleCodeExporter/following{/other_user}', 'gists_url': 'https://api.github.com/users/GoogleCodeExporter/gists{/gist_id}', 'starred_url': 'https://api.github.com/users/GoogleCodeExporter/starred{/owner}{/repo}', 'subscriptions_url': 'https://api.github.com/users/GoogleCodeExporter/subscriptions', 'organizations_url': 'https://api.github.com/users/GoogleCodeExporter/orgs', 'repos_url': 'https://api.github.com/users/GoogleCodeExporter/repos', 'events_url': 'https://api.github.com/users/GoogleCodeExporter/events{/privacy}', 'received_events_url': 'https://api.github.com/users/GoogleCodeExporter/received_events', 'type': 'User', 'site_admin': False}, 'created_at': '2015-03-01T00:00:00Z', 'updated_at': '2015-03-01T00:00:00Z', 'body': '```\\nThis issue was reported internally by yanivi@google.com\\n```\\n\\nOriginal comment by `rmis...@google.com` on 27 Sep 2011 at 5:42'}}, 'public': True, 'created_at': '2015-03-01T00:00:00Z'}\n",
            "{'id': '2614896657', 'type': 'IssueCommentEvent', 'actor': {'id': 3196287, 'login': 'tedsanders', 'gravatar_id': '', 'url': 'https://api.github.com/users/tedsanders', 'avatar_url': 'https://avatars.githubusercontent.com/u/3196287?'}, 'repo': {'id': 14652644, 'name': 'tedsanders/BetTheBill', 'url': 'https://api.github.com/repos/tedsanders/BetTheBill'}, 'payload': {'action': 'created', 'issue': {'url': 'https://api.github.com/repos/tedsanders/BetTheBill/issues/5', 'labels_url': 'https://api.github.com/repos/tedsanders/BetTheBill/issues/5/labels{/name}', 'comments_url': 'https://api.github.com/repos/tedsanders/BetTheBill/issues/5/comments', 'events_url': 'https://api.github.com/repos/tedsanders/BetTheBill/issues/5/events', 'html_url': 'https://github.com/tedsanders/BetTheBill/issues/5', 'id': 29541243, 'number': 5, 'title': 'To do: Prettify', 'user': {'login': 'tedsanders', 'id': 3196287, 'avatar_url': 'https://avatars.githubusercontent.com/u/3196287?v=3', 'gravatar_id': '', 'url': 'https://api.github.com/users/tedsanders', 'html_url': 'https://github.com/tedsanders', 'followers_url': 'https://api.github.com/users/tedsanders/followers', 'following_url': 'https://api.github.com/users/tedsanders/following{/other_user}', 'gists_url': 'https://api.github.com/users/tedsanders/gists{/gist_id}', 'starred_url': 'https://api.github.com/users/tedsanders/starred{/owner}{/repo}', 'subscriptions_url': 'https://api.github.com/users/tedsanders/subscriptions', 'organizations_url': 'https://api.github.com/users/tedsanders/orgs', 'repos_url': 'https://api.github.com/users/tedsanders/repos', 'events_url': 'https://api.github.com/users/tedsanders/events{/privacy}', 'received_events_url': 'https://api.github.com/users/tedsanders/received_events', 'type': 'User', 'site_admin': False}, 'labels': [{'url': 'https://api.github.com/repos/tedsanders/BetTheBill/labels/To%20do', 'name': 'To do', 'color': 'fbca04'}], 'state': 'closed', 'locked': False, 'assignee': {'login': 'tedsanders', 'id': 3196287, 'avatar_url': 'https://avatars.githubusercontent.com/u/3196287?v=3', 'gravatar_id': '', 'url': 'https://api.github.com/users/tedsanders', 'html_url': 'https://github.com/tedsanders', 'followers_url': 'https://api.github.com/users/tedsanders/followers', 'following_url': 'https://api.github.com/users/tedsanders/following{/other_user}', 'gists_url': 'https://api.github.com/users/tedsanders/gists{/gist_id}', 'starred_url': 'https://api.github.com/users/tedsanders/starred{/owner}{/repo}', 'subscriptions_url': 'https://api.github.com/users/tedsanders/subscriptions', 'organizations_url': 'https://api.github.com/users/tedsanders/orgs', 'repos_url': 'https://api.github.com/users/tedsanders/repos', 'events_url': 'https://api.github.com/users/tedsanders/events{/privacy}', 'received_events_url': 'https://api.github.com/users/tedsanders/received_events', 'type': 'User', 'site_admin': False}, 'milestone': {'url': 'https://api.github.com/repos/tedsanders/BetTheBill/milestones/1', 'html_url': 'https://github.com/tedsanders/BetTheBill/milestones/BetTheBill%20Version%202.0', 'labels_url': 'https://api.github.com/repos/tedsanders/BetTheBill/milestones/1/labels', 'id': 599605, 'number': 1, 'title': 'BetTheBill Version 2.0', 'description': 'Not only will Bet The Bill v2.0 work, but it will look good too!', 'creator': {'login': 'tedsanders', 'id': 3196287, 'avatar_url': 'https://avatars.githubusercontent.com/u/3196287?v=3', 'gravatar_id': '', 'url': 'https://api.github.com/users/tedsanders', 'html_url': 'https://github.com/tedsanders', 'followers_url': 'https://api.github.com/users/tedsanders/followers', 'following_url': 'https://api.github.com/users/tedsanders/following{/other_user}', 'gists_url': 'https://api.github.com/users/tedsanders/gists{/gist_id}', 'starred_url': 'https://api.github.com/users/tedsanders/starred{/owner}{/repo}', 'subscriptions_url': 'https://api.github.com/users/tedsanders/subscriptions', 'organizations_url': 'https://api.github.com/users/tedsanders/orgs', 'repos_url': 'https://api.github.com/users/tedsanders/repos', 'events_url': 'https://api.github.com/users/tedsanders/events{/privacy}', 'received_events_url': 'https://api.github.com/users/tedsanders/received_events', 'type': 'User', 'site_admin': False}, 'open_issues': 2, 'closed_issues': 17, 'state': 'open', 'created_at': '2014-03-17T07:15:59Z', 'updated_at': '2015-03-01T00:00:00Z', 'due_on': '2014-09-21T07:00:00Z', 'closed_at': None}, 'comments': 5, 'created_at': '2014-03-17T07:20:00Z', 'updated_at': '2015-03-01T00:00:00Z', 'closed_at': '2015-03-01T00:00:00Z', 'body': '1. Edit CSS to make things prettier\\r\\n\\r\\n    1a. Size button text\\r\\n\\r\\n    1b. Align stuff\\r\\n\\r\\n    1c. Figure out the widths of everything\\r\\n\\r\\n2. Create a favicon\\r\\n\\r\\n3. Create iPhone, iPad, Windows 8 icons'}, 'comment': {'url': 'https://api.github.com/repos/tedsanders/BetTheBill/issues/comments/76558894', 'html_url': 'https://github.com/tedsanders/BetTheBill/issues/5#issuecomment-76558894', 'issue_url': 'https://api.github.com/repos/tedsanders/BetTheBill/issues/5', 'id': 76558894, 'user': {'login': 'tedsanders', 'id': 3196287, 'avatar_url': 'https://avatars.githubusercontent.com/u/3196287?v=3', 'gravatar_id': '', 'url': 'https://api.github.com/users/tedsanders', 'html_url': 'https://github.com/tedsanders', 'followers_url': 'https://api.github.com/users/tedsanders/followers', 'following_url': 'https://api.github.com/users/tedsanders/following{/other_user}', 'gists_url': 'https://api.github.com/users/tedsanders/gists{/gist_id}', 'starred_url': 'https://api.github.com/users/tedsanders/starred{/owner}{/repo}', 'subscriptions_url': 'https://api.github.com/users/tedsanders/subscriptions', 'organizations_url': 'https://api.github.com/users/tedsanders/orgs', 'repos_url': 'https://api.github.com/users/tedsanders/repos', 'events_url': 'https://api.github.com/users/tedsanders/events{/privacy}', 'received_events_url': 'https://api.github.com/users/tedsanders/received_events', 'type': 'User', 'site_admin': False}, 'created_at': '2015-03-01T00:00:00Z', 'updated_at': '2015-03-01T00:00:00Z', 'body': \"Everything looks good to me. Still haven't made tablet/phone icons.\"}}, 'public': True, 'created_at': '2015-03-01T00:00:00Z'}\n"
          ]
        }
      ]
    },
    {
      "cell_type": "markdown",
      "source": [
        "2. Filter this RDD of JSON objects to retain only those objects that represent push activities (where type equals PushEvent)\n"
      ],
      "metadata": {
        "id": "1OV79FKJk8HN"
      }
    },
    {
      "cell_type": "code",
      "source": [
        "push_events_rdd = json_rdd.filter(lambda obj: obj.get(\"type\") == \"PushEvent\")\n",
        "\n",
        "# Print the first 5 PushEvent objects\n",
        "for push_event in push_events_rdd.take(5):\n",
        "    print(push_event)"
      ],
      "metadata": {
        "colab": {
          "base_uri": "https://localhost:8080/"
        },
        "id": "4xLSYcdZWmnc",
        "outputId": "e48013eb-ad22-4c5b-8aa2-65d9af4aebca"
      },
      "execution_count": 29,
      "outputs": [
        {
          "output_type": "stream",
          "name": "stdout",
          "text": [
            "{'id': '2614896653', 'type': 'PushEvent', 'actor': {'id': 9063348, 'login': 'bezerrathm', 'gravatar_id': '', 'url': 'https://api.github.com/users/bezerrathm', 'avatar_url': 'https://avatars.githubusercontent.com/u/9063348?'}, 'repo': {'id': 31481156, 'name': 'bezerrathm/HuffmanCoding', 'url': 'https://api.github.com/repos/bezerrathm/HuffmanCoding'}, 'payload': {'push_id': 588068425, 'size': 1, 'distinct_size': 1, 'ref': 'refs/heads/master', 'head': '570ad890d78525dfc10364901c41b8236e2c783a', 'before': '6dda286a3a1c254184f1456b5fefc139ff9dce66', 'commits': [{'sha': '570ad890d78525dfc10364901c41b8236e2c783a', 'author': {'email': 'ba1618c3d509021c3c759fa9aad031c4a38fe046@gmail.com', 'name': 'Thiago Henrique Menêses Bezerra'}, 'message': 'Create other.h', 'distinct': True, 'url': 'https://api.github.com/repos/bezerrathm/HuffmanCoding/commits/570ad890d78525dfc10364901c41b8236e2c783a'}]}, 'public': True, 'created_at': '2015-03-01T00:00:00Z'}\n",
            "{'id': '2614896654', 'type': 'PushEvent', 'actor': {'id': 2474382, 'login': 'demianborba', 'gravatar_id': '', 'url': 'https://api.github.com/users/demianborba', 'avatar_url': 'https://avatars.githubusercontent.com/u/2474382?'}, 'repo': {'id': 31475673, 'name': 'demianborba/demo-bh-la-braintree-node-angular', 'url': 'https://api.github.com/repos/demianborba/demo-bh-la-braintree-node-angular'}, 'payload': {'push_id': 588068427, 'size': 1, 'distinct_size': 1, 'ref': 'refs/heads/master', 'head': '191a22b798fdf37e9fa87d5bbb37d4e4b5140ca8', 'before': '6089ce1d78dc0a028b9f43be86393f7b86d7441e', 'commits': [{'sha': '191a22b798fdf37e9fa87d5bbb37d4e4b5140ca8', 'author': {'email': '81f8c769cbc39e5504763fee38d8c8c75529d125@actioncreations.com', 'name': 'Demian Borba'}, 'message': 'update readme', 'distinct': True, 'url': 'https://api.github.com/repos/demianborba/demo-bh-la-braintree-node-angular/commits/191a22b798fdf37e9fa87d5bbb37d4e4b5140ca8'}]}, 'public': True, 'created_at': '2015-03-01T00:00:00Z'}\n",
            "{'id': '2614896663', 'type': 'PushEvent', 'actor': {'id': 4231187, 'login': 'ricardocastaneda', 'gravatar_id': '', 'url': 'https://api.github.com/users/ricardocastaneda', 'avatar_url': 'https://avatars.githubusercontent.com/u/4231187?'}, 'repo': {'id': 31481269, 'name': 'ricardocastaneda/cosa', 'url': 'https://api.github.com/repos/ricardocastaneda/cosa'}, 'payload': {'push_id': 588068429, 'size': 1, 'distinct_size': 1, 'ref': 'refs/heads/master', 'head': '893cef565077dd7822543ecb23d200ae8f6ef4ad', 'before': '3f55d3ea1fc0cee2dab77569539acacf4bbe9327', 'commits': [{'sha': '893cef565077dd7822543ecb23d200ae8f6ef4ad', 'author': {'email': 'a671be22df0340aaf9542b651be83242246c0eaa@gmail.com', 'name': 'ricardocastaneda'}, 'message': '1', 'distinct': True, 'url': 'https://api.github.com/repos/ricardocastaneda/cosa/commits/893cef565077dd7822543ecb23d200ae8f6ef4ad'}]}, 'public': True, 'created_at': '2015-03-01T00:00:00Z'}\n",
            "{'id': '2614896667', 'type': 'PushEvent', 'actor': {'id': 400659, 'login': 'ex3ndr', 'gravatar_id': '', 'url': 'https://api.github.com/users/ex3ndr', 'avatar_url': 'https://avatars.githubusercontent.com/u/400659?'}, 'repo': {'id': 24902852, 'name': 'actorapp/actor-api-schema', 'url': 'https://api.github.com/repos/actorapp/actor-api-schema'}, 'payload': {'push_id': 588068430, 'size': 1, 'distinct_size': 1, 'ref': 'refs/heads/develop', 'head': '6578a74e3bbd7d6e9a97264edcfa9de4b25c0654', 'before': '15bf6c902557a373c679695329734f8bd5555c6d', 'commits': [{'sha': '6578a74e3bbd7d6e9a97264edcfa9de4b25c0654', 'author': {'email': 'b1c1d8736f20db3fb6c1c66bb1455ed43909f0d8@ex3ndr.com', 'name': 'ex3ndr'}, 'message': 'chore(lang): Unified struct and roc comments', 'distinct': True, 'url': 'https://api.github.com/repos/actorapp/actor-api-schema/commits/6578a74e3bbd7d6e9a97264edcfa9de4b25c0654'}]}, 'public': True, 'created_at': '2015-03-01T00:00:00Z', 'org': {'id': 8400826, 'login': 'actorapp', 'gravatar_id': '', 'url': 'https://api.github.com/orgs/actorapp', 'avatar_url': 'https://avatars.githubusercontent.com/u/8400826?'}}\n",
            "{'id': '2614896668', 'type': 'PushEvent', 'actor': {'id': 7939805, 'login': 'furutachi', 'gravatar_id': '', 'url': 'https://api.github.com/users/furutachi', 'avatar_url': 'https://avatars.githubusercontent.com/u/7939805?'}, 'repo': {'id': 24292601, 'name': 'komasui/komasui.org', 'url': 'https://api.github.com/repos/komasui/komasui.org'}, 'payload': {'push_id': 588068431, 'size': 1, 'distinct_size': 1, 'ref': 'refs/heads/master', 'head': '4d80112f512e0c36505ce5fddea25ff2dd0f2d55', 'before': '95d1dccd3b63e65f257be568e14b3ba946116050', 'commits': [{'sha': '4d80112f512e0c36505ce5fddea25ff2dd0f2d55', 'author': {'email': '1b2539dec08e4b1bcaa550ee677c5e4a847b3dc2@gmail.com', 'name': 'furutachi'}, 'message': '狛吹ムービーへのリンクを追加', 'distinct': True, 'url': 'https://api.github.com/repos/komasui/komasui.org/commits/4d80112f512e0c36505ce5fddea25ff2dd0f2d55'}]}, 'public': True, 'created_at': '2015-03-01T00:00:00Z'}\n"
          ]
        }
      ]
    },
    {
      "cell_type": "markdown",
      "source": [
        "3. Count the number of push events."
      ],
      "metadata": {
        "id": "jC_8TEVWlGRN"
      }
    },
    {
      "cell_type": "code",
      "source": [
        "push_events_count = push_events_rdd.count()\n",
        "\n",
        "print(f\"Number of Push Events: {push_events_count}\")"
      ],
      "metadata": {
        "colab": {
          "base_uri": "https://localhost:8080/"
        },
        "id": "Jy50yIF3Wm0G",
        "outputId": "2398397b-0805-4210-87d0-168f93bf4e10"
      },
      "execution_count": 30,
      "outputs": [
        {
          "output_type": "stream",
          "name": "stdout",
          "text": [
            "Number of Push Events: 8793\n"
          ]
        }
      ]
    },
    {
      "cell_type": "markdown",
      "source": [
        "4. Compute the number of push events, grouped per actor.login."
      ],
      "metadata": {
        "id": "UPmE5H8tlTnW"
      }
    },
    {
      "cell_type": "code",
      "source": [
        "# Group by actor.login and count the number of push events per actor\n",
        "push_events_per_actor = push_events_rdd.groupBy(lambda obj: obj[\"actor\"][\"login\"]).mapValues(len)\n",
        "\n",
        "# Print 5 actors with their push events count\n",
        "for actor, count in push_events_per_actor.take(5):\n",
        "    print(f\"Actor: {actor}, Push Events Count: {count}\")"
      ],
      "metadata": {
        "colab": {
          "base_uri": "https://localhost:8080/"
        },
        "id": "siz_3cVCWnCK",
        "outputId": "de39e4d9-71cd-405b-edf1-67e3d41a2c53"
      },
      "execution_count": 31,
      "outputs": [
        {
          "output_type": "stream",
          "name": "stdout",
          "text": [
            "Actor: bezerrathm, Push Events Count: 2\n",
            "Actor: demianborba, Push Events Count: 3\n",
            "Actor: ricardocastaneda, Push Events Count: 3\n",
            "Actor: ex3ndr, Push Events Count: 1\n",
            "Actor: furutachi, Push Events Count: 1\n"
          ]
        }
      ]
    },
    {
      "cell_type": "markdown",
      "source": [
        "5. Retrieve the results of (4) in sorted order, where logins with higher number of pushes come first. Retrieve the 10 first such results (which contain the highest number of pushes)"
      ],
      "metadata": {
        "id": "ZNJhZ4LMlja_"
      }
    },
    {
      "cell_type": "code",
      "source": [
        "# Sort the results by the count of push events in descending order\n",
        "sorted_results = push_events_per_actor.sortBy(lambda x: x[1], ascending=False)\n",
        "\n",
        "# Take the top 10 actors with the highest number of pushes\n",
        "top10_actors = sorted_results.take(10)\n",
        "\n",
        "# Print the top 10 actors with their push events count\n",
        "for actor, count in top10_actors:\n",
        "    print(f\"Actor: {actor}, Push Events Count: {count}\")"
      ],
      "metadata": {
        "colab": {
          "base_uri": "https://localhost:8080/"
        },
        "id": "jWA_BxEEWnOI",
        "outputId": "8d666001-285b-4afd-86c9-20c7bc112a5d"
      },
      "execution_count": 32,
      "outputs": [
        {
          "output_type": "stream",
          "name": "stdout",
          "text": [
            "Actor: greatfirebot, Push Events Count: 192\n",
            "Actor: diversify-exp-user, Push Events Count: 146\n",
            "Actor: KenanSulayman, Push Events Count: 72\n",
            "Actor: manuelrp07, Push Events Count: 45\n",
            "Actor: mirror-updates, Push Events Count: 42\n",
            "Actor: tryton-mirror, Push Events Count: 37\n",
            "Actor: Somasis, Push Events Count: 26\n",
            "Actor: direwolf-github, Push Events Count: 24\n",
            "Actor: EmanueleMinotto, Push Events Count: 22\n",
            "Actor: hansliu, Push Events Count: 21\n"
          ]
        }
      ]
    },
    {
      "cell_type": "markdown",
      "source": [
        "6. You are representing a company and need to retrieving the number of pushes for every employee in the company. The file data/github/employees.txt contains a list of all employee login names at your company."
      ],
      "metadata": {
        "id": "2_JHqlZSlxSt"
      }
    },
    {
      "cell_type": "code",
      "source": [
        "# Load the list of employee login names\n",
        "employees_file_path = \"data/github/employees.txt\"\n",
        "\n",
        "employees_set = set(sc.textFile(employees_file_path).collect())\n",
        "\n",
        "# Filter the RDD to retain only PushEvent objects for employees in the list\n",
        "push_events_rdd = json_rdd.filter(lambda obj: obj.get(\"type\") == \"PushEvent\" and obj[\"actor\"][\"login\"] in employees_set)\n",
        "\n",
        "# Group by actor.login and count the number of push events per employee\n",
        "push_events_per_employee = push_events_rdd.groupBy(lambda obj: obj[\"actor\"][\"login\"]).mapValues(len)\n",
        "\n",
        "for employee, count in push_events_per_employee.collect()[:5]:\n",
        "    print(f\"Employee: {employee}, Push Events Count: {count}\")"
      ],
      "metadata": {
        "colab": {
          "base_uri": "https://localhost:8080/"
        },
        "id": "KnrJgVVYWnaq",
        "outputId": "e8c62389-6085-482f-d277-6c265ea0b7b8"
      },
      "execution_count": 34,
      "outputs": [
        {
          "output_type": "stream",
          "name": "stdout",
          "text": [
            "Employee: ricardocastaneda, Push Events Count: 3\n",
            "Employee: kriskd, Push Events Count: 1\n",
            "Employee: jmarkkula, Push Events Count: 18\n",
            "Employee: qeremy, Push Events Count: 16\n",
            "Employee: BatMiles, Push Events Count: 10\n"
          ]
        }
      ]
    }
  ]
}